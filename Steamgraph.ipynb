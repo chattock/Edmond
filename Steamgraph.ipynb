{
 "cells": [
  {
   "cell_type": "markdown",
   "metadata": {},
   "source": [
    "## Streamgraph Visualization of Trade Data\n",
    "\n",
    "This notebook visualizes trade data using a streamgraph, focusing on imports from various countries over a range of years. The data is sourced from an Excel file and processed using Python libraries such as Pandas and Altair. For more information about the auther of this code, and the person who built this website, please click the following link : https://chattock.github.io/Portfolio/\n",
    "\n",
    "### The Colour Key for Most of the Charts\n",
    "\n",
    "- **Africa**: ![#f9844a](https://via.placeholder.com/15/f9844a/000000?text=+) `#f9844a`\n",
    "- **Asia**: ![#f9c74f](https://via.placeholder.com/15/f9c74f/000000?text=+) `#f9c74f`\n",
    "- **Europe**: Various shades from ![#43aa8b](https://via.placeholder.com/15/43aa8b/000000?text=+) `#43aa8b` to ![#53ca9b](https://via.placeholder.com/15/53ca9b/000000?text=+) `#53ca9b`\n",
    "- **Americas**: Various shades from ![#add8e6](https://via.placeholder.com/15/add8e6/000000?text=+) `#add8e6` to ![#b6faff](https://via.placeholder.com/15/b6faff/000000?text=+) `#b6faff`\n",
    "- **Islands**: Various shades from ![#ffc6c1](https://via.placeholder.com/15/ffc6c1/000000?text=+) `#ffc6c1` to ![#ff86c1](https://via.placeholder.com/15/ff86c1/000000?text=+) `#ff86c1`\n",
    "- **Prize Goods**: ![#277da1](https://via.placeholder.com/15/277da1/000000?text=+) `#277da1`"
   ]
  },
  {
   "cell_type": "markdown",
   "metadata": {},
   "source": [
    "# Visualization of Net Trade Flow from the UK\n",
    "\n",
    "This graph visualizes the net trade flow from the United Kingdom to various countries in a specific year. The data is extracted from an Excel sheet, which contains information about exports from the UK to multiple destinations over several years.\n",
    "\n",
    "## Process Overview\n",
    "\n",
    "1. **Data Extraction:**\n",
    "   - The relevant data is extracted from an Excel file using `pandas`. We select the necessary rows and columns to get years, countries, and export data.\n",
    "\n",
    "2. **Data Transformation:**\n",
    "   - We filter out specific years (`1705` and `1712`) that are not needed for the visualization.\n",
    "   - The data is transformed into a long-form DataFrame format to facilitate plotting.\n",
    "\n",
    "3. **Geographic Mapping:**\n",
    "   - Latitude and longitude coordinates are defined for each country to position them accurately on the globe.\n",
    "\n",
    "4. **Graph Construction:**\n",
    "   - Using `plotly.graph_objects`, a globe map is created to represent trade flows.\n",
    "   - Trade flows are depicted with lines connecting the UK to each country, where:\n",
    "     - **Blue lines** indicate positive trade (exports).\n",
    "     - **Red lines** indicate negative trade (imports).\n",
    "     - **Line thickness** and **color intensity** correspond to the magnitude of trade values.\n",
    "   - Zero trade values are marked with white markers.\n",
    "\n",
    "5. **Interactive Features:**\n",
    "   - Hover information displays the country name and trade value.\n",
    "   - A color bar provides a visual scale of trade values, from red (negative) to blue (positive).\n",
    "\n",
    "6. **Customization:**\n",
    "   - The map is styled with an orthographic projection, showing land and ocean colors distinctively.\n",
    "   - The legend and color bar enhance understanding and interaction."
   ]
  },
  {
   "cell_type": "code",
   "execution_count": 1,
   "metadata": {},
   "outputs": [
    {
     "data": {
      "application/vnd.plotly.v1+json": {
       "config": {
        "plotlyServerURL": "https://plot.ly"
       },
       "data": [
        {
         "hoverinfo": "text",
         "lat": [
          55.3781,
          9.1021
         ],
         "line": {
          "color": "rgba(0, 0, 255, 0.6074619261103865)",
          "width": 1.8271710271805661
         },
         "locationmode": "country names",
         "lon": [
          -3.436,
          18.2812
         ],
         "marker": {
          "opacity": 0,
          "size": 1
         },
         "mode": "lines+markers+text",
         "name": "Africa: 78044",
         "opacity": 0.7,
         "showlegend": true,
         "text": [
          null,
          "Africa: 78044"
         ],
         "textfont": {
          "color": "rgba(0, 0, 255, 0.6074619261103865)",
          "size": 5
         },
         "textposition": "top right",
         "type": "scattergeo"
        },
        {
         "hoverinfo": "text",
         "lat": [
          55.3781,
          34.0479
         ],
         "line": {
          "color": "rgba(255, 0, 0, 1.0)",
          "width": 11
         },
         "locationmode": "country names",
         "lon": [
          -3.436,
          100.6197
         ],
         "marker": {
          "opacity": 0,
          "size": 1
         },
         "mode": "lines+markers+text",
         "name": "Asia: -526166",
         "opacity": 0.7,
         "showlegend": true,
         "text": [
          null,
          "Asia: -526166"
         ],
         "textfont": {
          "color": "rgba(255, 0, 0, 1.0)",
          "size": 5
         },
         "textposition": "top right",
         "type": "scattergeo"
        },
        {
         "hoverinfo": "text",
         "lat": [
          55.3781,
          53.1424
         ],
         "line": {
          "color": "rgba(255, 0, 0, 0.7749670099737799)",
          "width": 3.795220519759924
         },
         "locationmode": "country names",
         "lon": [
          -3.436,
          -7.6921
         ],
         "marker": {
          "opacity": 0,
          "size": 1
         },
         "mode": "lines+markers+text",
         "name": "Ireland: -147075",
         "opacity": 0.7,
         "showlegend": true,
         "text": [
          null,
          "Ireland: -147075"
         ],
         "textfont": {
          "color": "rgba(255, 0, 0, 0.7749670099737799)",
          "size": 5
         },
         "textposition": "top right",
         "type": "scattergeo"
        },
        {
         "hoverinfo": "text",
         "lat": [
          55.3781,
          49.3723
         ],
         "line": {
          "color": "rgba(0, 0, 255, 0.31574671455406994)",
          "width": 1.0313829815422282
         },
         "locationmode": "country names",
         "lon": [
          -3.436,
          -2.3644
         ],
         "marker": {
          "opacity": 0,
          "size": 1
         },
         "mode": "lines+markers+text",
         "name": "Channel Islands: 2961",
         "opacity": 0.7,
         "showlegend": true,
         "text": [
          null,
          "Channel Islands: 2961"
         ],
         "textfont": {
          "color": "rgba(0, 0, 255, 0.31574671455406994)",
          "size": 5
         },
         "textposition": "top right",
         "type": "scattergeo"
        },
        {
         "hoverinfo": "text",
         "lat": [
          55.3781,
          56.2639
         ],
         "line": {
          "color": "rgba(255, 0, 0, 0.6218848995865474)",
          "width": 1.9301437189023996
         },
         "locationmode": "country names",
         "lon": [
          -3.436,
          9.5018
         ],
         "marker": {
          "opacity": 0,
          "size": 1
         },
         "mode": "lines+markers+text",
         "name": "Denmark: -48941",
         "opacity": 0.7,
         "showlegend": true,
         "text": [
          null,
          "Denmark: -48941"
         ],
         "textfont": {
          "color": "rgba(255, 0, 0, 0.6218848995865474)",
          "size": 5
         },
         "textposition": "top right",
         "type": "scattergeo"
        },
        {
         "hoverinfo": "text",
         "lat": [
          55.3781,
          60.1282
         ],
         "line": {
          "color": "rgba(255, 0, 0, 0.8141517621112679)",
          "width": 4.577065032708308
         },
         "locationmode": "country names",
         "lon": [
          -3.436,
          18.6435
         ],
         "marker": {
          "opacity": 0,
          "size": 1
         },
         "mode": "lines+markers+text",
         "name": "Sweden: -188213",
         "opacity": 0.7,
         "showlegend": true,
         "text": [
          null,
          "Sweden: -188213"
         ],
         "textfont": {
          "color": "rgba(255, 0, 0, 0.8141517621112679)",
          "size": 5
         },
         "textposition": "top right",
         "type": "scattergeo"
        },
        {
         "hoverinfo": "text",
         "lat": [
          55.3781,
          55
         ],
         "line": {
          "color": "rgba(255, 0, 0, 0.6451683647826197)",
          "width": 2.1178031267698785
         },
         "locationmode": "country names",
         "lon": [
          -3.436,
          24
         ],
         "marker": {
          "opacity": 0,
          "size": 1
         },
         "mode": "lines+markers+text",
         "name": "East Country: -58815",
         "opacity": 0.7,
         "showlegend": true,
         "text": [
          null,
          "East Country: -58815"
         ],
         "textfont": {
          "color": "rgba(255, 0, 0, 0.6451683647826197)",
          "size": 5
         },
         "textposition": "top right",
         "type": "scattergeo"
        },
        {
         "hoverinfo": "text",
         "lat": [
          55.3781,
          61.524
         ],
         "line": {
          "color": "rgba(255, 0, 0, 0.5996015654960306)",
          "width": 1.7750215711391462
         },
         "locationmode": "country names",
         "lon": [
          -3.436,
          105.3188
         ],
         "marker": {
          "opacity": 0,
          "size": 1
         },
         "mode": "lines+markers+text",
         "name": "Russia: -40779",
         "opacity": 0.7,
         "showlegend": true,
         "text": [
          null,
          "Russia: -40779"
         ],
         "textfont": {
          "color": "rgba(255, 0, 0, 0.5996015654960306)",
          "size": 5
         },
         "textposition": "top right",
         "type": "scattergeo"
        },
        {
         "hoverinfo": "text",
         "lat": [
          55.3781,
          51.1657
         ],
         "line": {
          "color": "rgba(255, 0, 0, 0.7407102830736617)",
          "width": 3.2296765659506694
         },
         "locationmode": "country names",
         "lon": [
          -3.436,
          10.4515
         ],
         "marker": {
          "opacity": 0,
          "size": 1
         },
         "mode": "lines+markers+text",
         "name": "Germany: -117318",
         "opacity": 0.7,
         "showlegend": true,
         "text": [
          null,
          "Germany: -117318"
         ],
         "textfont": {
          "color": "rgba(255, 0, 0, 0.7407102830736617)",
          "size": 5
         },
         "textposition": "top right",
         "type": "scattergeo"
        },
        {
         "hoverinfo": "text",
         "lat": [
          55.3781,
          52.1326
         ],
         "line": {
          "color": "rgba(0, 0, 255, 1.0)",
          "width": 11
         },
         "locationmode": "country names",
         "lon": [
          -3.436,
          5.2913
         ],
         "marker": {
          "opacity": 0,
          "size": 1
         },
         "mode": "lines+markers+text",
         "name": "Holland: 943505",
         "opacity": 0.7,
         "showlegend": true,
         "text": [
          null,
          "Holland: 943505"
         ],
         "textfont": {
          "color": "rgba(0, 0, 255, 1.0)",
          "size": 5
         },
         "textposition": "top right",
         "type": "scattergeo"
        },
        {
         "hoverinfo": "text",
         "lat": [
          55.3781,
          50.8503
         ],
         "line": {
          "color": "rgba(0, 0, 255, 0.7130821096528296)",
          "width": 2.8437316177444742
         },
         "locationmode": "country names",
         "lon": [
          -3.436,
          4.3517
         ],
         "marker": {
          "opacity": 0,
          "size": 1
         },
         "mode": "lines+markers+text",
         "name": "Flanders: 173957",
         "opacity": 0.7,
         "showlegend": true,
         "text": [
          null,
          "Flanders: 173957"
         ],
         "textfont": {
          "color": "rgba(0, 0, 255, 0.7130821096528296)",
          "size": 5
         },
         "textposition": "top right",
         "type": "scattergeo"
        },
        {
         "hoverinfo": "text",
         "lat": [
          55.3781,
          46.6034
         ],
         "line": {
          "color": "rgba(0, 0, 255, 0.4921444359414609)",
          "width": 1.288710711654946
         },
         "locationmode": "country names",
         "lon": [
          -3.436,
          1.8883
         ],
         "marker": {
          "opacity": 0,
          "size": 1
         },
         "mode": "lines+markers+text",
         "name": "France: 27240",
         "opacity": 0.7,
         "showlegend": true,
         "text": [
          null,
          "France: 27240"
         ],
         "textfont": {
          "color": "rgba(0, 0, 255, 0.4921444359414609)",
          "size": 5
         },
         "textposition": "top right",
         "type": "scattergeo"
        },
        {
         "hoverinfo": "text",
         "lat": [
          55.3781,
          40.4637
         ],
         "line": {
          "color": "rgba(0, 0, 255, 0.6458188143767886)",
          "width": 2.1234492662995956
         },
         "locationmode": "country names",
         "lon": [
          -3.436,
          -3.7492
         ],
         "marker": {
          "opacity": 0,
          "size": 1
         },
         "mode": "lines+markers+text",
         "name": "Spain: 105998",
         "opacity": 0.7,
         "showlegend": true,
         "text": [
          null,
          "Spain: 105998"
         ],
         "textfont": {
          "color": "rgba(0, 0, 255, 0.6458188143767886)",
          "size": 5
         },
         "textposition": "top right",
         "type": "scattergeo"
        },
        {
         "hoverinfo": "text",
         "lat": [
          55.3781,
          28.2916
         ],
         "line": {
          "color": "rgba(255, 0, 0, 0.6202626912255543)",
          "width": 1.9180752842258908
         },
         "locationmode": "country names",
         "lon": [
          -3.436,
          -16.6291
         ],
         "marker": {
          "opacity": 0,
          "size": 1
         },
         "mode": "lines+markers+text",
         "name": "Canary Islands: -48306",
         "opacity": 0.7,
         "showlegend": true,
         "text": [
          null,
          "Canary Islands: -48306"
         ],
         "textfont": {
          "color": "rgba(255, 0, 0, 0.6202626912255543)",
          "size": 5
         },
         "textposition": "top right",
         "type": "scattergeo"
        },
        {
         "hoverinfo": "text",
         "lat": [
          55.3781,
          39.3999
         ],
         "line": {
          "color": "rgba(0, 0, 255, 0.7127169082127243)",
          "width": 2.839015161551873
         },
         "locationmode": "country names",
         "lon": [
          -3.436,
          -8.2245
         ],
         "marker": {
          "opacity": 0,
          "size": 1
         },
         "mode": "lines+markers+text",
         "name": "Portugal: 173512",
         "opacity": 0.7,
         "showlegend": true,
         "text": [
          null,
          "Portugal: 173512"
         ],
         "textfont": {
          "color": "rgba(0, 0, 255, 0.7127169082127243)",
          "size": 5
         },
         "textposition": "top right",
         "type": "scattergeo"
        },
        {
         "hoverinfo": "text",
         "lat": [
          55.3781,
          32.7607
         ],
         "line": {
          "color": "rgba(0, 0, 255, 0.35663078182845454)",
          "width": 1.0576891484411848
         },
         "locationmode": "country names",
         "lon": [
          -3.436,
          -16.9595
         ],
         "marker": {
          "opacity": 0,
          "size": 1
         },
         "mode": "lines+markers+text",
         "name": "Madeira: 5443",
         "opacity": 0.7,
         "showlegend": true,
         "text": [
          null,
          "Madeira: 5443"
         ],
         "textfont": {
          "color": "rgba(0, 0, 255, 0.35663078182845454)",
          "size": 5
         },
         "textposition": "top right",
         "type": "scattergeo"
        },
        {
         "hoverinfo": "text",
         "lat": [
          55.3781,
          1.3521
         ],
         "line": {
          "color": "rgba(0, 0, 255, 0.8461806994528073)",
          "width": 5.338259998622159
         },
         "locationmode": "country names",
         "lon": [
          -3.436,
          103.8198
         ],
         "marker": {
          "opacity": 0,
          "size": 1
         },
         "mode": "lines+markers+text",
         "name": "The Straits: 409317",
         "opacity": 0.7,
         "showlegend": true,
         "text": [
          null,
          "The Straits: 409317"
         ],
         "textfont": {
          "color": "rgba(0, 0, 255, 0.8461806994528073)",
          "size": 5
         },
         "textposition": "top right",
         "type": "scattergeo"
        },
        {
         "hoverinfo": "text",
         "lat": [
          55.3781,
          41.8719
         ],
         "line": {
          "color": "rgba(255, 0, 0, 0.8675907596981888)",
          "width": 5.9155779734912555
         },
         "locationmode": "country names",
         "lon": [
          -3.436,
          12.5674
         ],
         "marker": {
          "opacity": 0,
          "size": 1
         },
         "mode": "lines+markers+text",
         "name": "Italy: -258641",
         "opacity": 0.7,
         "showlegend": true,
         "text": [
          null,
          "Italy: -258641"
         ],
         "textfont": {
          "color": "rgba(255, 0, 0, 0.8675907596981888)",
          "size": 5
         },
         "textposition": "top right",
         "type": "scattergeo"
        },
        {
         "hoverinfo": "text",
         "lat": [
          55.3781,
          45.4408
         ],
         "line": {
          "color": "rgba(255, 0, 0, 0.4973465793016281)",
          "width": 1.3042956025284795
         },
         "locationmode": "country names",
         "lon": [
          -3.436,
          12.3155
         ],
         "marker": {
          "opacity": 0,
          "size": 1
         },
         "mode": "lines+markers+text",
         "name": "Venice: -16011",
         "opacity": 0.7,
         "showlegend": true,
         "text": [
          null,
          "Venice: -16011"
         ],
         "textfont": {
          "color": "rgba(255, 0, 0, 0.4973465793016281)",
          "size": 5
         },
         "textposition": "top right",
         "type": "scattergeo"
        },
        {
         "hoverinfo": "text",
         "lat": [
          55.3781,
          38.9637
         ],
         "line": {
          "color": "rgba(255, 0, 0, 0.5728449895644772)",
          "width": 1.6168585579455912
         },
         "locationmode": "country names",
         "lon": [
          -3.436,
          35.2433
         ],
         "marker": {
          "opacity": 0,
          "size": 1
         },
         "mode": "lines+markers+text",
         "name": "Turkey: -32457",
         "opacity": 0.7,
         "showlegend": true,
         "text": [
          null,
          "Turkey: -32457"
         ],
         "textfont": {
          "color": "rgba(255, 0, 0, 0.5728449895644772)",
          "size": 5
         },
         "textposition": "top right",
         "type": "scattergeo"
        },
        {
         "hoverinfo": "text",
         "lat": [
          55.3781,
          56.1304
         ],
         "line": {
          "color": "rgba(255, 0, 0, 0.2873048045536219)",
          "width": 1.0195755712075656
         },
         "locationmode": "country names",
         "lon": [
          -3.436,
          -106.3468
         ],
         "marker": {
          "opacity": 0,
          "size": 1
         },
         "mode": "lines+markers+text",
         "name": "Canada: -1030",
         "opacity": 0.7,
         "showlegend": true,
         "text": [
          null,
          "Canada: -1030"
         ],
         "textfont": {
          "color": "rgba(255, 0, 0, 0.2873048045536219)",
          "size": 5
         },
         "textposition": "top right",
         "type": "scattergeo"
        },
        {
         "hoverinfo": "text",
         "lat": [
          55.3781,
          42.4072
         ],
         "line": {
          "color": "rgba(0, 0, 255, 0.6391282606657452)",
          "width": 2.066449038425869
         },
         "locationmode": "country names",
         "lon": [
          -3.436,
          -71.3824
         ],
         "marker": {
          "opacity": 0,
          "size": 1
         },
         "mode": "lines+markers+text",
         "name": "New England: 100620",
         "opacity": 0.7,
         "showlegend": true,
         "text": [
          null,
          "New England: 100620"
         ],
         "textfont": {
          "color": "rgba(0, 0, 255, 0.6391282606657452)",
          "size": 5
         },
         "textposition": "top right",
         "type": "scattergeo"
        },
        {
         "hoverinfo": "text",
         "lat": [
          55.3781,
          40.7128
         ],
         "line": {
          "color": "rgba(0, 0, 255, 0.48747862997163716)",
          "width": 1.2752820599784844
         },
         "locationmode": "country names",
         "lon": [
          -3.436,
          -74.006
         ],
         "marker": {
          "opacity": 0,
          "size": 1
         },
         "mode": "lines+markers+text",
         "name": "New York: 25973",
         "opacity": 0.7,
         "showlegend": true,
         "text": [
          null,
          "New York: 25973"
         ],
         "textfont": {
          "color": "rgba(0, 0, 255, 0.48747862997163716)",
          "size": 5
         },
         "textposition": "top right",
         "type": "scattergeo"
        },
        {
         "hoverinfo": "text",
         "lat": [
          55.3781,
          41.2033
         ],
         "line": {
          "color": "rgba(0, 0, 255, 0.4401473517650193)",
          "width": 1.1651925532986047
         },
         "locationmode": "country names",
         "lon": [
          -3.436,
          -77.1945
         ],
         "marker": {
          "opacity": 0,
          "size": 1
         },
         "mode": "lines+markers+text",
         "name": "Pennsylvania: 15586",
         "opacity": 0.7,
         "showlegend": true,
         "text": [
          null,
          "Pennsylvania: 15586"
         ],
         "textfont": {
          "color": "rgba(0, 0, 255, 0.4401473517650193)",
          "size": 5
         },
         "textposition": "top right",
         "type": "scattergeo"
        },
        {
         "hoverinfo": "text",
         "lat": [
          55.3781,
          37.4316
         ],
         "line": {
          "color": "rgba(0, 0, 255, 0.37463680225767054)",
          "width": 1.0737992909417544
         },
         "locationmode": "country names",
         "lon": [
          -3.436,
          -78.6569
         ],
         "marker": {
          "opacity": 0,
          "size": 1
         },
         "mode": "lines+markers+text",
         "name": "Virginia: 6963",
         "opacity": 0.7,
         "showlegend": true,
         "text": [
          null,
          "Virginia: 6963"
         ],
         "textfont": {
          "color": "rgba(0, 0, 255, 0.37463680225767054)",
          "size": 5
         },
         "textposition": "top right",
         "type": "scattergeo"
        },
        {
         "hoverinfo": "text",
         "lat": [
          55.3781,
          35.7596
         ],
         "line": {
          "color": "rgba(255, 0, 0, 0.2807656542788952)",
          "width": 1.0174469654063547
         },
         "locationmode": "country names",
         "lon": [
          -3.436,
          -79.0193
         ],
         "marker": {
          "opacity": 0,
          "size": 1
         },
         "mode": "lines+markers+text",
         "name": "Carolina: -918",
         "opacity": 0.7,
         "showlegend": true,
         "text": [
          null,
          "Carolina: -918"
         ],
         "textfont": {
          "color": "rgba(255, 0, 0, 0.2807656542788952)",
          "size": 5
         },
         "textposition": "top right",
         "type": "scattergeo"
        },
        {
         "hoverinfo": "text",
         "lat": [
          32.1656
         ],
         "locationmode": "country names",
         "lon": [
          -82.9001
         ],
         "marker": {
          "color": "rgba(255, 255, 255, 0.8)",
          "size": 6
         },
         "mode": "markers+text",
         "name": "Georgia: 0",
         "opacity": 0.7,
         "showlegend": true,
         "text": [
          "Georgia: 0"
         ],
         "textfont": {
          "color": "rgba(255, 255, 255, 0.8)",
          "size": 5
         },
         "textposition": "top right",
         "type": "scattergeo"
        },
        {
         "hoverinfo": "text",
         "lat": [
          27.9944
         ],
         "locationmode": "country names",
         "lon": [
          -81.7603
         ],
         "marker": {
          "color": "rgba(255, 255, 255, 0.8)",
          "size": 6
         },
         "mode": "markers+text",
         "name": "Florida: 0",
         "opacity": 0.7,
         "showlegend": true,
         "text": [
          "Florida: 0"
         ],
         "textfont": {
          "color": "rgba(255, 255, 255, 0.8)",
          "size": 5
         },
         "textposition": "top right",
         "type": "scattergeo"
        },
        {
         "hoverinfo": "text",
         "lat": [
          55.3781,
          25.0343
         ],
         "line": {
          "color": "rgba(0, 0, 255, 0.20053742962271354)",
          "width": 1.0032432260560358
         },
         "locationmode": "country names",
         "lon": [
          -3.436,
          -77.3963
         ],
         "marker": {
          "opacity": 0,
          "size": 1
         },
         "mode": "lines+markers+text",
         "name": "New Providence: 306",
         "opacity": 0.7,
         "showlegend": true,
         "text": [
          null,
          "New Providence: 306"
         ],
         "textfont": {
          "color": "rgba(0, 0, 255, 0.20053742962271354)",
          "size": 5
         },
         "textposition": "top right",
         "type": "scattergeo"
        },
        {
         "hoverinfo": "text",
         "lat": [
          55.3781,
          32.3078
         ],
         "line": {
          "color": "rgba(0, 0, 255, 0.26223359641503363)",
          "width": 1.0124005702142542
         },
         "locationmode": "country names",
         "lon": [
          -3.436,
          -64.7505
         ],
         "marker": {
          "opacity": 0,
          "size": 1
         },
         "mode": "lines+markers+text",
         "name": "Bermuda: 1170",
         "opacity": 0.7,
         "showlegend": true,
         "text": [
          null,
          "Bermuda: 1170"
         ],
         "textfont": {
          "color": "rgba(0, 0, 255, 0.26223359641503363)",
          "size": 5
         },
         "textposition": "top right",
         "type": "scattergeo"
        },
        {
         "hoverinfo": "text",
         "lat": [
          55.3781,
          18.1096
         ],
         "line": {
          "color": "rgba(255, 0, 0, 0.5915450052428393)",
          "width": 1.7243341454978087
         },
         "locationmode": "country names",
         "lon": [
          -3.436,
          -77.2975
         ],
         "marker": {
          "opacity": 0,
          "size": 1
         },
         "mode": "lines+markers+text",
         "name": "Jamaica: -38112",
         "opacity": 0.7,
         "showlegend": true,
         "text": [
          null,
          "Jamaica: -38112"
         ],
         "textfont": {
          "color": "rgba(255, 0, 0, 0.5915450052428393)",
          "size": 5
         },
         "textposition": "top right",
         "type": "scattergeo"
        },
        {
         "hoverinfo": "text",
         "lat": [
          55.3781,
          17.1233
         ],
         "line": {
          "color": "rgba(255, 0, 0, 0.7815625258801657)",
          "width": 3.916208953068043
         },
         "locationmode": "country names",
         "lon": [
          -3.436,
          -61.8468
         ],
         "marker": {
          "opacity": 0,
          "size": 1
         },
         "mode": "lines+markers+text",
         "name": "Leeward Islands: -153441",
         "opacity": 0.7,
         "showlegend": true,
         "text": [
          null,
          "Leeward Islands: -153441"
         ],
         "textfont": {
          "color": "rgba(255, 0, 0, 0.7815625258801657)",
          "size": 5
         },
         "textposition": "top right",
         "type": "scattergeo"
        },
        {
         "hoverinfo": "text",
         "lat": [
          55.3781,
          13.9094
         ],
         "line": {
          "color": "rgba(255, 0, 0, 0.7073515736359126)",
          "width": 2.770828977927118
         },
         "locationmode": "country names",
         "lon": [
          -3.436,
          -60.9789
         ],
         "marker": {
          "opacity": 0,
          "size": 1
         },
         "mode": "lines+markers+text",
         "name": "Windward Islands: -93175",
         "opacity": 0.7,
         "showlegend": true,
         "text": [
          null,
          "Windward Islands: -93175"
         ],
         "textfont": {
          "color": "rgba(255, 0, 0, 0.7073515736359126)",
          "size": 5
         },
         "textposition": "top right",
         "type": "scattergeo"
        },
        {
         "hoverinfo": "text",
         "lat": [
          18.2208
         ],
         "locationmode": "country names",
         "lon": [
          -66.5901
         ],
         "marker": {
          "color": "rgba(255, 255, 255, 0.8)",
          "size": 6
         },
         "mode": "markers+text",
         "name": "Other British Caribbean: 0",
         "opacity": 0.7,
         "showlegend": true,
         "text": [
          "Other British Caribbean: 0"
         ],
         "textfont": {
          "color": "rgba(255, 255, 255, 0.8)",
          "size": 5
         },
         "textposition": "top right",
         "type": "scattergeo"
        },
        {
         "hoverinfo": "text",
         "lat": [
          19
         ],
         "locationmode": "country names",
         "lon": [
          -75
         ],
         "marker": {
          "color": "rgba(255, 255, 255, 0.8)",
          "size": 6
         },
         "mode": "markers+text",
         "name": "Spanish Caribbean: 0",
         "opacity": 0.7,
         "showlegend": true,
         "text": [
          "Spanish Caribbean: 0"
         ],
         "textfont": {
          "color": "rgba(255, 255, 255, 0.8)",
          "size": 5
         },
         "textposition": "top right",
         "type": "scattergeo"
        },
        {
         "hoverinfo": "text",
         "lat": [
          55.3781,
          30
         ],
         "line": {
          "color": "rgba(255, 0, 0, 0.40852373642278716)",
          "width": 1.1137853833200928
         },
         "locationmode": "country names",
         "lon": [
          -3.436,
          -40
         ],
         "marker": {
          "opacity": 0,
          "size": 1
         },
         "mode": "lines+markers+text",
         "name": "Prize Goods: -5987",
         "opacity": 0.7,
         "showlegend": true,
         "text": [
          null,
          "Prize Goods: -5987"
         ],
         "textfont": {
          "color": "rgba(255, 0, 0, 0.40852373642278716)",
          "size": 5
         },
         "textposition": "top right",
         "type": "scattergeo"
        },
        {
         "lat": [
          null
         ],
         "lon": [
          null
         ],
         "marker": {
          "color": [
           -526166,
           943505
          ],
          "colorbar": {
           "ticktext": [
            "-526166",
            "943505"
           ],
           "tickvals": [
            -526166,
            943505
           ],
           "title": {
            "text": "Net Trade"
           }
          },
          "colorscale": [
           [
            0,
            "rgba(255, 0, 0, 0.8)"
           ],
           [
            0.5,
            "rgba(255, 255, 255, 0.8)"
           ],
           [
            1,
            "rgba(0, 0, 255, 0.8)"
           ]
          ],
          "size": 0
         },
         "mode": "markers",
         "showlegend": false,
         "type": "scattergeo"
        }
       ],
       "layout": {
        "autosize": true,
        "geo": {
         "coastlinewidth": 0.5,
         "countrywidth": 0.5,
         "landcolor": "rgb(85, 107, 47)",
         "oceancolor": "rgb(70, 130, 180)",
         "projection": {
          "rotation": {
           "lat": 55.3781,
           "lon": -3.436
          },
          "type": "orthographic"
         },
         "showcountries": true,
         "showland": true,
         "showocean": true
        },
        "height": 800,
        "legend": {
         "font": {
          "size": 8
         },
         "orientation": "h",
         "title": {
          "text": "Click a Country"
         },
         "x": 0.5,
         "xanchor": "center",
         "y": -0.2,
         "yanchor": "top"
        },
        "template": {
         "data": {
          "bar": [
           {
            "error_x": {
             "color": "#2a3f5f"
            },
            "error_y": {
             "color": "#2a3f5f"
            },
            "marker": {
             "line": {
              "color": "#E5ECF6",
              "width": 0.5
             },
             "pattern": {
              "fillmode": "overlay",
              "size": 10,
              "solidity": 0.2
             }
            },
            "type": "bar"
           }
          ],
          "barpolar": [
           {
            "marker": {
             "line": {
              "color": "#E5ECF6",
              "width": 0.5
             },
             "pattern": {
              "fillmode": "overlay",
              "size": 10,
              "solidity": 0.2
             }
            },
            "type": "barpolar"
           }
          ],
          "carpet": [
           {
            "aaxis": {
             "endlinecolor": "#2a3f5f",
             "gridcolor": "white",
             "linecolor": "white",
             "minorgridcolor": "white",
             "startlinecolor": "#2a3f5f"
            },
            "baxis": {
             "endlinecolor": "#2a3f5f",
             "gridcolor": "white",
             "linecolor": "white",
             "minorgridcolor": "white",
             "startlinecolor": "#2a3f5f"
            },
            "type": "carpet"
           }
          ],
          "choropleth": [
           {
            "colorbar": {
             "outlinewidth": 0,
             "ticks": ""
            },
            "type": "choropleth"
           }
          ],
          "contour": [
           {
            "colorbar": {
             "outlinewidth": 0,
             "ticks": ""
            },
            "colorscale": [
             [
              0,
              "#0d0887"
             ],
             [
              0.1111111111111111,
              "#46039f"
             ],
             [
              0.2222222222222222,
              "#7201a8"
             ],
             [
              0.3333333333333333,
              "#9c179e"
             ],
             [
              0.4444444444444444,
              "#bd3786"
             ],
             [
              0.5555555555555556,
              "#d8576b"
             ],
             [
              0.6666666666666666,
              "#ed7953"
             ],
             [
              0.7777777777777778,
              "#fb9f3a"
             ],
             [
              0.8888888888888888,
              "#fdca26"
             ],
             [
              1,
              "#f0f921"
             ]
            ],
            "type": "contour"
           }
          ],
          "contourcarpet": [
           {
            "colorbar": {
             "outlinewidth": 0,
             "ticks": ""
            },
            "type": "contourcarpet"
           }
          ],
          "heatmap": [
           {
            "colorbar": {
             "outlinewidth": 0,
             "ticks": ""
            },
            "colorscale": [
             [
              0,
              "#0d0887"
             ],
             [
              0.1111111111111111,
              "#46039f"
             ],
             [
              0.2222222222222222,
              "#7201a8"
             ],
             [
              0.3333333333333333,
              "#9c179e"
             ],
             [
              0.4444444444444444,
              "#bd3786"
             ],
             [
              0.5555555555555556,
              "#d8576b"
             ],
             [
              0.6666666666666666,
              "#ed7953"
             ],
             [
              0.7777777777777778,
              "#fb9f3a"
             ],
             [
              0.8888888888888888,
              "#fdca26"
             ],
             [
              1,
              "#f0f921"
             ]
            ],
            "type": "heatmap"
           }
          ],
          "heatmapgl": [
           {
            "colorbar": {
             "outlinewidth": 0,
             "ticks": ""
            },
            "colorscale": [
             [
              0,
              "#0d0887"
             ],
             [
              0.1111111111111111,
              "#46039f"
             ],
             [
              0.2222222222222222,
              "#7201a8"
             ],
             [
              0.3333333333333333,
              "#9c179e"
             ],
             [
              0.4444444444444444,
              "#bd3786"
             ],
             [
              0.5555555555555556,
              "#d8576b"
             ],
             [
              0.6666666666666666,
              "#ed7953"
             ],
             [
              0.7777777777777778,
              "#fb9f3a"
             ],
             [
              0.8888888888888888,
              "#fdca26"
             ],
             [
              1,
              "#f0f921"
             ]
            ],
            "type": "heatmapgl"
           }
          ],
          "histogram": [
           {
            "marker": {
             "pattern": {
              "fillmode": "overlay",
              "size": 10,
              "solidity": 0.2
             }
            },
            "type": "histogram"
           }
          ],
          "histogram2d": [
           {
            "colorbar": {
             "outlinewidth": 0,
             "ticks": ""
            },
            "colorscale": [
             [
              0,
              "#0d0887"
             ],
             [
              0.1111111111111111,
              "#46039f"
             ],
             [
              0.2222222222222222,
              "#7201a8"
             ],
             [
              0.3333333333333333,
              "#9c179e"
             ],
             [
              0.4444444444444444,
              "#bd3786"
             ],
             [
              0.5555555555555556,
              "#d8576b"
             ],
             [
              0.6666666666666666,
              "#ed7953"
             ],
             [
              0.7777777777777778,
              "#fb9f3a"
             ],
             [
              0.8888888888888888,
              "#fdca26"
             ],
             [
              1,
              "#f0f921"
             ]
            ],
            "type": "histogram2d"
           }
          ],
          "histogram2dcontour": [
           {
            "colorbar": {
             "outlinewidth": 0,
             "ticks": ""
            },
            "colorscale": [
             [
              0,
              "#0d0887"
             ],
             [
              0.1111111111111111,
              "#46039f"
             ],
             [
              0.2222222222222222,
              "#7201a8"
             ],
             [
              0.3333333333333333,
              "#9c179e"
             ],
             [
              0.4444444444444444,
              "#bd3786"
             ],
             [
              0.5555555555555556,
              "#d8576b"
             ],
             [
              0.6666666666666666,
              "#ed7953"
             ],
             [
              0.7777777777777778,
              "#fb9f3a"
             ],
             [
              0.8888888888888888,
              "#fdca26"
             ],
             [
              1,
              "#f0f921"
             ]
            ],
            "type": "histogram2dcontour"
           }
          ],
          "mesh3d": [
           {
            "colorbar": {
             "outlinewidth": 0,
             "ticks": ""
            },
            "type": "mesh3d"
           }
          ],
          "parcoords": [
           {
            "line": {
             "colorbar": {
              "outlinewidth": 0,
              "ticks": ""
             }
            },
            "type": "parcoords"
           }
          ],
          "pie": [
           {
            "automargin": true,
            "type": "pie"
           }
          ],
          "scatter": [
           {
            "fillpattern": {
             "fillmode": "overlay",
             "size": 10,
             "solidity": 0.2
            },
            "type": "scatter"
           }
          ],
          "scatter3d": [
           {
            "line": {
             "colorbar": {
              "outlinewidth": 0,
              "ticks": ""
             }
            },
            "marker": {
             "colorbar": {
              "outlinewidth": 0,
              "ticks": ""
             }
            },
            "type": "scatter3d"
           }
          ],
          "scattercarpet": [
           {
            "marker": {
             "colorbar": {
              "outlinewidth": 0,
              "ticks": ""
             }
            },
            "type": "scattercarpet"
           }
          ],
          "scattergeo": [
           {
            "marker": {
             "colorbar": {
              "outlinewidth": 0,
              "ticks": ""
             }
            },
            "type": "scattergeo"
           }
          ],
          "scattergl": [
           {
            "marker": {
             "colorbar": {
              "outlinewidth": 0,
              "ticks": ""
             }
            },
            "type": "scattergl"
           }
          ],
          "scattermapbox": [
           {
            "marker": {
             "colorbar": {
              "outlinewidth": 0,
              "ticks": ""
             }
            },
            "type": "scattermapbox"
           }
          ],
          "scatterpolar": [
           {
            "marker": {
             "colorbar": {
              "outlinewidth": 0,
              "ticks": ""
             }
            },
            "type": "scatterpolar"
           }
          ],
          "scatterpolargl": [
           {
            "marker": {
             "colorbar": {
              "outlinewidth": 0,
              "ticks": ""
             }
            },
            "type": "scatterpolargl"
           }
          ],
          "scatterternary": [
           {
            "marker": {
             "colorbar": {
              "outlinewidth": 0,
              "ticks": ""
             }
            },
            "type": "scatterternary"
           }
          ],
          "surface": [
           {
            "colorbar": {
             "outlinewidth": 0,
             "ticks": ""
            },
            "colorscale": [
             [
              0,
              "#0d0887"
             ],
             [
              0.1111111111111111,
              "#46039f"
             ],
             [
              0.2222222222222222,
              "#7201a8"
             ],
             [
              0.3333333333333333,
              "#9c179e"
             ],
             [
              0.4444444444444444,
              "#bd3786"
             ],
             [
              0.5555555555555556,
              "#d8576b"
             ],
             [
              0.6666666666666666,
              "#ed7953"
             ],
             [
              0.7777777777777778,
              "#fb9f3a"
             ],
             [
              0.8888888888888888,
              "#fdca26"
             ],
             [
              1,
              "#f0f921"
             ]
            ],
            "type": "surface"
           }
          ],
          "table": [
           {
            "cells": {
             "fill": {
              "color": "#EBF0F8"
             },
             "line": {
              "color": "white"
             }
            },
            "header": {
             "fill": {
              "color": "#C8D4E3"
             },
             "line": {
              "color": "white"
             }
            },
            "type": "table"
           }
          ]
         },
         "layout": {
          "annotationdefaults": {
           "arrowcolor": "#2a3f5f",
           "arrowhead": 0,
           "arrowwidth": 1
          },
          "autotypenumbers": "strict",
          "coloraxis": {
           "colorbar": {
            "outlinewidth": 0,
            "ticks": ""
           }
          },
          "colorscale": {
           "diverging": [
            [
             0,
             "#8e0152"
            ],
            [
             0.1,
             "#c51b7d"
            ],
            [
             0.2,
             "#de77ae"
            ],
            [
             0.3,
             "#f1b6da"
            ],
            [
             0.4,
             "#fde0ef"
            ],
            [
             0.5,
             "#f7f7f7"
            ],
            [
             0.6,
             "#e6f5d0"
            ],
            [
             0.7,
             "#b8e186"
            ],
            [
             0.8,
             "#7fbc41"
            ],
            [
             0.9,
             "#4d9221"
            ],
            [
             1,
             "#276419"
            ]
           ],
           "sequential": [
            [
             0,
             "#0d0887"
            ],
            [
             0.1111111111111111,
             "#46039f"
            ],
            [
             0.2222222222222222,
             "#7201a8"
            ],
            [
             0.3333333333333333,
             "#9c179e"
            ],
            [
             0.4444444444444444,
             "#bd3786"
            ],
            [
             0.5555555555555556,
             "#d8576b"
            ],
            [
             0.6666666666666666,
             "#ed7953"
            ],
            [
             0.7777777777777778,
             "#fb9f3a"
            ],
            [
             0.8888888888888888,
             "#fdca26"
            ],
            [
             1,
             "#f0f921"
            ]
           ],
           "sequentialminus": [
            [
             0,
             "#0d0887"
            ],
            [
             0.1111111111111111,
             "#46039f"
            ],
            [
             0.2222222222222222,
             "#7201a8"
            ],
            [
             0.3333333333333333,
             "#9c179e"
            ],
            [
             0.4444444444444444,
             "#bd3786"
            ],
            [
             0.5555555555555556,
             "#d8576b"
            ],
            [
             0.6666666666666666,
             "#ed7953"
            ],
            [
             0.7777777777777778,
             "#fb9f3a"
            ],
            [
             0.8888888888888888,
             "#fdca26"
            ],
            [
             1,
             "#f0f921"
            ]
           ]
          },
          "colorway": [
           "#636efa",
           "#EF553B",
           "#00cc96",
           "#ab63fa",
           "#FFA15A",
           "#19d3f3",
           "#FF6692",
           "#B6E880",
           "#FF97FF",
           "#FECB52"
          ],
          "font": {
           "color": "#2a3f5f"
          },
          "geo": {
           "bgcolor": "white",
           "lakecolor": "white",
           "landcolor": "#E5ECF6",
           "showlakes": true,
           "showland": true,
           "subunitcolor": "white"
          },
          "hoverlabel": {
           "align": "left"
          },
          "hovermode": "closest",
          "mapbox": {
           "style": "light"
          },
          "paper_bgcolor": "white",
          "plot_bgcolor": "#E5ECF6",
          "polar": {
           "angularaxis": {
            "gridcolor": "white",
            "linecolor": "white",
            "ticks": ""
           },
           "bgcolor": "#E5ECF6",
           "radialaxis": {
            "gridcolor": "white",
            "linecolor": "white",
            "ticks": ""
           }
          },
          "scene": {
           "xaxis": {
            "backgroundcolor": "#E5ECF6",
            "gridcolor": "white",
            "gridwidth": 2,
            "linecolor": "white",
            "showbackground": true,
            "ticks": "",
            "zerolinecolor": "white"
           },
           "yaxis": {
            "backgroundcolor": "#E5ECF6",
            "gridcolor": "white",
            "gridwidth": 2,
            "linecolor": "white",
            "showbackground": true,
            "ticks": "",
            "zerolinecolor": "white"
           },
           "zaxis": {
            "backgroundcolor": "#E5ECF6",
            "gridcolor": "white",
            "gridwidth": 2,
            "linecolor": "white",
            "showbackground": true,
            "ticks": "",
            "zerolinecolor": "white"
           }
          },
          "shapedefaults": {
           "line": {
            "color": "#2a3f5f"
           }
          },
          "ternary": {
           "aaxis": {
            "gridcolor": "white",
            "linecolor": "white",
            "ticks": ""
           },
           "baxis": {
            "gridcolor": "white",
            "linecolor": "white",
            "ticks": ""
           },
           "bgcolor": "#E5ECF6",
           "caxis": {
            "gridcolor": "white",
            "linecolor": "white",
            "ticks": ""
           }
          },
          "title": {
           "x": 0.05
          },
          "xaxis": {
           "automargin": true,
           "gridcolor": "white",
           "linecolor": "white",
           "ticks": "",
           "title": {
            "standoff": 15
           },
           "zerolinecolor": "white",
           "zerolinewidth": 2
          },
          "yaxis": {
           "automargin": true,
           "gridcolor": "white",
           "linecolor": "white",
           "ticks": "",
           "title": {
            "standoff": 15
           },
           "zerolinecolor": "white",
           "zerolinewidth": 2
          }
         }
        },
        "title": {
         "text": "Net Trade Flow from UK in 1699"
        }
       }
      }
     },
     "metadata": {},
     "output_type": "display_data"
    }
   ],
   "source": [
    "import pandas as pd\n",
    "import plotly.express as px\n",
    "import plotly.graph_objects as go\n",
    "\n",
    "# Read the Excel file\n",
    "file_path = 'Customs data for James.xlsx'\n",
    "df = pd.read_excel(file_path, header=None)\n",
    "\n",
    "# Extract relevant part of the dataframe\n",
    "df_relevant = df.iloc[157:194, 0:73]\n",
    "\n",
    "# Extract years, countries, and data\n",
    "years = df_relevant.iloc[0, 1:].values\n",
    "countries = df_relevant.iloc[1:, 0].values\n",
    "data = df_relevant.iloc[1:, 1:].values\n",
    "\n",
    "# Filter out specific years\n",
    "filtered_years_indices = [i for i, year in enumerate(years) if year not in [1705, 1712]]\n",
    "filtered_years = [year for year in years if year not in [1705, 1712]]\n",
    "filtered_data = data[:, filtered_years_indices]\n",
    "\n",
    "# Create a long-form DataFrame\n",
    "long_data = []\n",
    "for i, country in enumerate(countries):\n",
    "    for j, year in enumerate(filtered_years):\n",
    "        long_data.append({\n",
    "            'Year': year,\n",
    "            'Country': country,\n",
    "            'Export': filtered_data[i, j]\n",
    "        })\n",
    "\n",
    "df_long = pd.DataFrame(long_data)\n",
    "\n",
    "# Define latitudes and longitudes for countries\n",
    "locations = {\n",
    "    \"Africa\": {\"lat\": 9.1021, \"lon\": 18.2812},\n",
    "    \"Asia\": {\"lat\": 34.0479, \"lon\": 100.6197},\n",
    "    \"Ireland\": {\"lat\": 53.1424, \"lon\": -7.6921},\n",
    "    \"Channel Islands\": {\"lat\": 49.3723, \"lon\": -2.3644},\n",
    "    \"Denmark\": {\"lat\": 56.2639, \"lon\": 9.5018},\n",
    "    \"Sweden\": {\"lat\": 60.1282, \"lon\": 18.6435},\n",
    "    \"East Country\": {\"lat\": 55.0, \"lon\": 24.0},\n",
    "    \"Russia\": {\"lat\": 61.5240, \"lon\": 105.3188},\n",
    "    \"Germany\": {\"lat\": 51.1657, \"lon\": 10.4515},\n",
    "    \"Holland\": {\"lat\": 52.1326, \"lon\": 5.2913},\n",
    "    \"Flanders\": {\"lat\": 50.8503, \"lon\": 4.3517},\n",
    "    \"France\": {\"lat\": 46.6034, \"lon\": 1.8883},\n",
    "    \"Spain\": {\"lat\": 40.4637, \"lon\": -3.7492},\n",
    "    \"Canary Islands\": {\"lat\": 28.2916, \"lon\": -16.6291},\n",
    "    \"Portugal\": {\"lat\": 39.3999, \"lon\": -8.2245},\n",
    "    \"Madeira\": {\"lat\": 32.7607, \"lon\": -16.9595},\n",
    "    \"The Straits\": {\"lat\": 1.3521, \"lon\": 103.8198},\n",
    "    \"Italy\": {\"lat\": 41.8719, \"lon\": 12.5674},\n",
    "    \"Venice\": {\"lat\": 45.4408, \"lon\": 12.3155},\n",
    "    \"Turkey\": {\"lat\": 38.9637, \"lon\": 35.2433},\n",
    "    \"Canada\": {\"lat\": 56.1304, \"lon\": -106.3468},\n",
    "    \"New England\": {\"lat\": 42.4072, \"lon\": -71.3824},\n",
    "    \"New York\": {\"lat\": 40.7128, \"lon\": -74.0060},\n",
    "    \"Pennsylvania\": {\"lat\": 41.2033, \"lon\": -77.1945},\n",
    "    \"Virginia\": {\"lat\": 37.4316, \"lon\": -78.6569},\n",
    "    \"Carolina\": {\"lat\": 35.7596, \"lon\": -79.0193},\n",
    "    \"Georgia\": {\"lat\": 32.1656, \"lon\": -82.9001},\n",
    "    \"Florida\": {\"lat\": 27.9944, \"lon\": -81.7603},\n",
    "    \"New Providence\": {\"lat\": 25.0343, \"lon\": -77.3963},\n",
    "    \"Bermuda\": {\"lat\": 32.3078, \"lon\": -64.7505},\n",
    "    \"Jamaica\": {\"lat\": 18.1096, \"lon\": -77.2975},\n",
    "    \"Leeward Islands\": {\"lat\": 17.1233, \"lon\": -61.8468},\n",
    "    \"Windward Islands\": {\"lat\": 13.9094, \"lon\": -60.9789},\n",
    "    \"Other British Caribbean\": {\"lat\": 18.2208, \"lon\": -66.5901},\n",
    "    \"Spanish Caribbean\": {\"lat\": 19.0, \"lon\": -75.0},\n",
    "    \"Prize Goods\": {\"lat\": 30.0, \"lon\": -40.0}  # Middle of the Atlantic\n",
    "}\n",
    "\n",
    "# UK coordinates\n",
    "uk_lat = 55.3781\n",
    "uk_lon = -3.4360\n",
    "\n",
    "# Function to create the globe map\n",
    "# Function to create the globe map\n",
    "def create_globe_map(year):\n",
    "    year_data = df_long[df_long['Year'] == year]\n",
    "    max_export = max(year_data[\"Export\"])\n",
    "    min_export = min(year_data[\"Export\"])\n",
    "    \n",
    "    fig = go.Figure()\n",
    "\n",
    "    for _, row in year_data.iterrows():\n",
    "        country = row['Country']\n",
    "        export_value = row['Export']\n",
    "\n",
    "        # Determine the color and line width\n",
    "        if export_value > 0:\n",
    "            intensity = export_value / max_export\n",
    "            color = f'rgba(0, 0, 255, {intensity ** 0.2})'  # Blue\n",
    "            line_width = 1 + 10 * intensity\n",
    "            mode = 'lines+markers+text'\n",
    "        elif export_value < 0:\n",
    "            intensity = abs(export_value) / abs(min_export)\n",
    "            color = f'rgba(255, 0, 0, {intensity ** 0.2})'  # Red\n",
    "            line_width = 1 + 10 * intensity\n",
    "            mode = 'lines+markers+text'\n",
    "        else:\n",
    "            color = 'rgba(255, 255, 255, 0.8)'  # White for zero\n",
    "            line_width = 0\n",
    "            mode = 'markers+text'\n",
    "\n",
    "        if country in locations:\n",
    "            if export_value != 0:\n",
    "                marker = dict(size=1, opacity=0)\n",
    "            else:\n",
    "                marker = dict(size=6, color=color)\n",
    "\n",
    "            fig.add_trace(go.Scattergeo(\n",
    "                locationmode='country names',\n",
    "                lon=[uk_lon, locations[country]['lon']] if export_value != 0 else [locations[country]['lon']],\n",
    "                lat=[uk_lat, locations[country]['lat']] if export_value != 0 else [locations[country]['lat']],\n",
    "                mode=mode,\n",
    "                line=dict(width=line_width, color=color) if export_value != 0 else None,\n",
    "                opacity=0.7,\n",
    "                hoverinfo='text',\n",
    "                text=[None, f\"{country}: {export_value}\"] if export_value != 0 else [f\"{country}: {export_value}\"],\n",
    "                textposition=\"top right\",\n",
    "                marker=marker,\n",
    "                name=f\"{country}: {export_value}\",\n",
    "                showlegend=True,\n",
    "                textfont=dict(color=color, size=5),\n",
    "            ))\n",
    "\n",
    "    # Add colorbar\n",
    "    fig.add_trace(go.Scattergeo(\n",
    "        lon=[None],\n",
    "        lat=[None],\n",
    "        mode='markers',\n",
    "        marker=dict(\n",
    "            size=0,\n",
    "            color=[min_export, max_export],\n",
    "            colorscale=[\n",
    "                [0, 'rgba(255, 0, 0, 0.8)'],\n",
    "                [0.5, 'rgba(255, 255, 255, 0.8)'],\n",
    "                [1, 'rgba(0, 0, 255, 0.8)']\n",
    "            ],\n",
    "            colorbar=dict(\n",
    "                title=\"Net Trade\",\n",
    "                tickvals=[min_export, max_export],\n",
    "                ticktext=[str(min_export), str(max_export)]\n",
    "            )\n",
    "        ),\n",
    "        showlegend=False\n",
    "    ))\n",
    "    \n",
    "    fig.update_layout(\n",
    "        title_text=f'Net Trade Flow from UK in {year}',\n",
    "        geo=dict(\n",
    "            showland=True,\n",
    "            showcountries=True,\n",
    "            projection_type='orthographic',\n",
    "            projection_rotation=dict(lat=uk_lat, lon=uk_lon),\n",
    "            landcolor='rgb(85, 107, 47)',\n",
    "            oceancolor='rgb(70, 130, 180)',\n",
    "            coastlinewidth=0.5,\n",
    "            countrywidth=0.5,\n",
    "            showocean=True\n",
    "        ),\n",
    "        legend=dict(\n",
    "            title=dict(text='Click a Country'),\n",
    "            orientation='h',\n",
    "            x=0.5,\n",
    "            y=-0.2,\n",
    "            xanchor='center',\n",
    "            yanchor='top',\n",
    "            font=dict(size=8)\n",
    "        ),\n",
    "        autosize=True,\n",
    "        height=800\n",
    "    )\n",
    "\n",
    "    return fig\n",
    "\n",
    "# Example: Show the map for a specific year\n",
    "fig = create_globe_map(filtered_years[0])\n",
    "fig.show()"
   ]
  },
  {
   "cell_type": "markdown",
   "metadata": {},
   "source": [
    "6. **Save the Graph:**\n",
    "I used the code below to save the map."
   ]
  },
  {
   "cell_type": "code",
   "execution_count": null,
   "metadata": {},
   "outputs": [],
   "source": [
    "import os\n",
    "\n",
    "\n",
    "\n",
    "# ... the previous code\n",
    "\n",
    "\n",
    "\n",
    "\n",
    "# Create the \"Maps\" directory if it doesn't exist\n",
    "os.makedirs(\"Maps\", exist_ok=True)\n",
    "\n",
    "# Export each year's chart as an HTML file\n",
    "for year in filtered_years:\n",
    "    fig = create_globe_map(year)\n",
    "    file_name = f\"Maps/Net_Trade/{year}.html\" \n",
    "    fig.write_html(file_name)\n",
    "\n",
    "print(\"HTML files for each year have been saved in the 'Maps' folder.\")"
   ]
  },
  {
   "cell_type": "code",
   "execution_count": null,
   "metadata": {},
   "outputs": [],
   "source": []
  }
 ],
 "metadata": {
  "kernelspec": {
   "display_name": "base",
   "language": "python",
   "name": "python3"
  },
  "language_info": {
   "codemirror_mode": {
    "name": "ipython",
    "version": 3
   },
   "file_extension": ".py",
   "mimetype": "text/x-python",
   "name": "python",
   "nbconvert_exporter": "python",
   "pygments_lexer": "ipython3",
   "version": "3.11.7"
  }
 },
 "nbformat": 4,
 "nbformat_minor": 2
}
